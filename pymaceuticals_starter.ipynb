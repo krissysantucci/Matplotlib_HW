{
 "cells": [
  {
   "cell_type": "markdown",
   "metadata": {},
   "source": [
    "## Observations and Insights"
   ]
  },
  {
   "cell_type": "markdown",
   "metadata": {},
   "source": []
  },
  {
   "cell_type": "markdown",
   "metadata": {},
   "source": [
    "## Dependencies and starter code"
   ]
  },
  {
   "cell_type": "code",
   "execution_count": 17,
   "metadata": {},
   "outputs": [
    {
     "data": {
      "text/html": [
       "<div>\n",
       "<style scoped>\n",
       "    .dataframe tbody tr th:only-of-type {\n",
       "        vertical-align: middle;\n",
       "    }\n",
       "\n",
       "    .dataframe tbody tr th {\n",
       "        vertical-align: top;\n",
       "    }\n",
       "\n",
       "    .dataframe thead th {\n",
       "        text-align: right;\n",
       "    }\n",
       "</style>\n",
       "<table border=\"1\" class=\"dataframe\">\n",
       "  <thead>\n",
       "    <tr style=\"text-align: right;\">\n",
       "      <th></th>\n",
       "      <th>Mouse ID</th>\n",
       "      <th>Drug Regimen</th>\n",
       "      <th>Sex</th>\n",
       "      <th>Age_months</th>\n",
       "      <th>Weight (g)</th>\n",
       "      <th>Timepoint</th>\n",
       "      <th>TumorVolume</th>\n",
       "      <th>Metastatic Sites</th>\n",
       "    </tr>\n",
       "  </thead>\n",
       "  <tbody>\n",
       "    <tr>\n",
       "      <td>0</td>\n",
       "      <td>k403</td>\n",
       "      <td>Ramicane</td>\n",
       "      <td>Male</td>\n",
       "      <td>21</td>\n",
       "      <td>16</td>\n",
       "      <td>0</td>\n",
       "      <td>45.000000</td>\n",
       "      <td>0</td>\n",
       "    </tr>\n",
       "    <tr>\n",
       "      <td>1</td>\n",
       "      <td>k403</td>\n",
       "      <td>Ramicane</td>\n",
       "      <td>Male</td>\n",
       "      <td>21</td>\n",
       "      <td>16</td>\n",
       "      <td>5</td>\n",
       "      <td>38.825898</td>\n",
       "      <td>0</td>\n",
       "    </tr>\n",
       "    <tr>\n",
       "      <td>2</td>\n",
       "      <td>k403</td>\n",
       "      <td>Ramicane</td>\n",
       "      <td>Male</td>\n",
       "      <td>21</td>\n",
       "      <td>16</td>\n",
       "      <td>10</td>\n",
       "      <td>35.014271</td>\n",
       "      <td>1</td>\n",
       "    </tr>\n",
       "    <tr>\n",
       "      <td>3</td>\n",
       "      <td>k403</td>\n",
       "      <td>Ramicane</td>\n",
       "      <td>Male</td>\n",
       "      <td>21</td>\n",
       "      <td>16</td>\n",
       "      <td>15</td>\n",
       "      <td>34.223992</td>\n",
       "      <td>1</td>\n",
       "    </tr>\n",
       "    <tr>\n",
       "      <td>4</td>\n",
       "      <td>k403</td>\n",
       "      <td>Ramicane</td>\n",
       "      <td>Male</td>\n",
       "      <td>21</td>\n",
       "      <td>16</td>\n",
       "      <td>20</td>\n",
       "      <td>32.997729</td>\n",
       "      <td>1</td>\n",
       "    </tr>\n",
       "  </tbody>\n",
       "</table>\n",
       "</div>"
      ],
      "text/plain": [
       "  Mouse ID Drug Regimen   Sex  Age_months  Weight (g)  Timepoint  TumorVolume  \\\n",
       "0     k403     Ramicane  Male          21          16          0    45.000000   \n",
       "1     k403     Ramicane  Male          21          16          5    38.825898   \n",
       "2     k403     Ramicane  Male          21          16         10    35.014271   \n",
       "3     k403     Ramicane  Male          21          16         15    34.223992   \n",
       "4     k403     Ramicane  Male          21          16         20    32.997729   \n",
       "\n",
       "   Metastatic Sites  \n",
       "0                 0  \n",
       "1                 0  \n",
       "2                 1  \n",
       "3                 1  \n",
       "4                 1  "
      ]
     },
     "execution_count": 17,
     "metadata": {},
     "output_type": "execute_result"
    }
   ],
   "source": [
    "# Dependencies and Setup\n",
    "import matplotlib.pyplot as plt\n",
    "import pandas as pd\n",
    "from scipy.stats import linregress\n",
    "import numpy as np\n",
    "\n",
    "\n",
    "# Study data files\n",
    "mouse_csv = \"metadata.csv\"\n",
    "study_results_csv = \"Study_results.csv\"\n",
    "\n",
    "# Read the mouse data and the study results\n",
    "mouse_df = pd.read_csv(mouse_csv)\n",
    "study_results_df = pd.read_csv(study_results_csv)\n",
    "\n",
    "# Combine the data into a single dataset\n",
    "comb_df = pd.merge(mouse_df, study_results_df, on=\"Mouse ID\", how='left')\n",
    "comb_df = comb_df.rename(columns={\"Tumor Volume (mm3)\":\"TumorVolume\"})\n",
    "comb_df.head()"
   ]
  },
  {
   "cell_type": "markdown",
   "metadata": {},
   "source": [
    "## Summary statistics"
   ]
  },
  {
   "cell_type": "code",
   "execution_count": 18,
   "metadata": {
    "scrolled": true
   },
   "outputs": [
    {
     "data": {
      "text/html": [
       "<div>\n",
       "<style scoped>\n",
       "    .dataframe tbody tr th:only-of-type {\n",
       "        vertical-align: middle;\n",
       "    }\n",
       "\n",
       "    .dataframe tbody tr th {\n",
       "        vertical-align: top;\n",
       "    }\n",
       "\n",
       "    .dataframe thead th {\n",
       "        text-align: right;\n",
       "    }\n",
       "</style>\n",
       "<table border=\"1\" class=\"dataframe\">\n",
       "  <thead>\n",
       "    <tr style=\"text-align: right;\">\n",
       "      <th></th>\n",
       "      <th>Mean</th>\n",
       "      <th>Median</th>\n",
       "      <th>Variance</th>\n",
       "      <th>Std. Deviation</th>\n",
       "      <th>SEM</th>\n",
       "    </tr>\n",
       "    <tr>\n",
       "      <th>Drug Regimen</th>\n",
       "      <th></th>\n",
       "      <th></th>\n",
       "      <th></th>\n",
       "      <th></th>\n",
       "      <th></th>\n",
       "    </tr>\n",
       "  </thead>\n",
       "  <tbody>\n",
       "    <tr>\n",
       "      <td>Capomulin</td>\n",
       "      <td>40.675741</td>\n",
       "      <td>41.557809</td>\n",
       "      <td>24.947764</td>\n",
       "      <td>4.994774</td>\n",
       "      <td>0.329346</td>\n",
       "    </tr>\n",
       "    <tr>\n",
       "      <td>Ceftamin</td>\n",
       "      <td>52.591172</td>\n",
       "      <td>51.776157</td>\n",
       "      <td>39.290177</td>\n",
       "      <td>6.268188</td>\n",
       "      <td>0.469821</td>\n",
       "    </tr>\n",
       "    <tr>\n",
       "      <td>Infubinol</td>\n",
       "      <td>52.884795</td>\n",
       "      <td>51.820584</td>\n",
       "      <td>43.128684</td>\n",
       "      <td>6.567243</td>\n",
       "      <td>0.492236</td>\n",
       "    </tr>\n",
       "    <tr>\n",
       "      <td>Ketapril</td>\n",
       "      <td>55.235638</td>\n",
       "      <td>53.698743</td>\n",
       "      <td>68.553577</td>\n",
       "      <td>8.279709</td>\n",
       "      <td>0.603860</td>\n",
       "    </tr>\n",
       "    <tr>\n",
       "      <td>Naftisol</td>\n",
       "      <td>54.331565</td>\n",
       "      <td>52.509285</td>\n",
       "      <td>66.173479</td>\n",
       "      <td>8.134708</td>\n",
       "      <td>0.596466</td>\n",
       "    </tr>\n",
       "    <tr>\n",
       "      <td>Placebo</td>\n",
       "      <td>54.033581</td>\n",
       "      <td>52.288934</td>\n",
       "      <td>61.168083</td>\n",
       "      <td>7.821003</td>\n",
       "      <td>0.581331</td>\n",
       "    </tr>\n",
       "    <tr>\n",
       "      <td>Propriva</td>\n",
       "      <td>52.322552</td>\n",
       "      <td>50.854632</td>\n",
       "      <td>42.351070</td>\n",
       "      <td>6.507770</td>\n",
       "      <td>0.512884</td>\n",
       "    </tr>\n",
       "    <tr>\n",
       "      <td>Ramicane</td>\n",
       "      <td>40.216745</td>\n",
       "      <td>40.673236</td>\n",
       "      <td>23.486704</td>\n",
       "      <td>4.846308</td>\n",
       "      <td>0.320955</td>\n",
       "    </tr>\n",
       "    <tr>\n",
       "      <td>Stelasyn</td>\n",
       "      <td>54.233149</td>\n",
       "      <td>52.431737</td>\n",
       "      <td>59.450562</td>\n",
       "      <td>7.710419</td>\n",
       "      <td>0.573111</td>\n",
       "    </tr>\n",
       "    <tr>\n",
       "      <td>Zoniferol</td>\n",
       "      <td>53.236507</td>\n",
       "      <td>51.818479</td>\n",
       "      <td>48.533355</td>\n",
       "      <td>6.966589</td>\n",
       "      <td>0.516398</td>\n",
       "    </tr>\n",
       "  </tbody>\n",
       "</table>\n",
       "</div>"
      ],
      "text/plain": [
       "                   Mean     Median   Variance  Std. Deviation       SEM\n",
       "Drug Regimen                                                           \n",
       "Capomulin     40.675741  41.557809  24.947764        4.994774  0.329346\n",
       "Ceftamin      52.591172  51.776157  39.290177        6.268188  0.469821\n",
       "Infubinol     52.884795  51.820584  43.128684        6.567243  0.492236\n",
       "Ketapril      55.235638  53.698743  68.553577        8.279709  0.603860\n",
       "Naftisol      54.331565  52.509285  66.173479        8.134708  0.596466\n",
       "Placebo       54.033581  52.288934  61.168083        7.821003  0.581331\n",
       "Propriva      52.322552  50.854632  42.351070        6.507770  0.512884\n",
       "Ramicane      40.216745  40.673236  23.486704        4.846308  0.320955\n",
       "Stelasyn      54.233149  52.431737  59.450562        7.710419  0.573111\n",
       "Zoniferol     53.236507  51.818479  48.533355        6.966589  0.516398"
      ]
     },
     "execution_count": 18,
     "metadata": {},
     "output_type": "execute_result"
    }
   ],
   "source": [
    "# Generate a summary statistics table of mean, median, variance, standard deviation, and SEM of the tumor volume for each regimen\n",
    "TumorVolume_mean = comb_df['TumorVolume'].groupby([comb_df['Drug Regimen']]).mean()\n",
    "TumorVolume_median = comb_df['TumorVolume'].groupby([comb_df['Drug Regimen']]).median()\n",
    "TumorVolume_var = comb_df['TumorVolume'].groupby([comb_df['Drug Regimen']]).var()\n",
    "TumorVolume_std = comb_df['TumorVolume'].groupby([comb_df['Drug Regimen']]).std()\n",
    "TumorVolume_sem = comb_df['TumorVolume'].groupby([comb_df['Drug Regimen']]).sem()\n",
    "\n",
    "summary_stats = pd.DataFrame({\"Mean\":TumorVolume_mean,\n",
    "                            \"Median\":TumorVolume_median,\n",
    "                             \"Variance\": TumorVolume_var,\n",
    "                             \"Std. Deviation\": TumorVolume_std,\n",
    "                             \"SEM\": TumorVolume_sem})\n",
    "summary_stats = pd.DataFrame(summary_stats)\n",
    "summary_stats\n",
    "                            "
   ]
  },
  {
   "cell_type": "code",
   "execution_count": null,
   "metadata": {},
   "outputs": [],
   "source": []
  },
  {
   "cell_type": "markdown",
   "metadata": {},
   "source": [
    "## Bar plots"
   ]
  },
  {
   "cell_type": "code",
   "execution_count": 19,
   "metadata": {},
   "outputs": [
    {
     "data": {
      "text/plain": [
       "Text(0, 0.5, 'Number of Data Points')"
      ]
     },
     "execution_count": 19,
     "metadata": {},
     "output_type": "execute_result"
    },
    {
     "data": {
      "image/png": "[encoded data removed]",
      "text/plain": [
       "<Figure size 432x288 with 1 Axes>"
      ]
     },
     "metadata": {
      "needs_background": "light"
     },
     "output_type": "display_data"
    }
   ],
   "source": [
    "# Generate a bar plot showing number of data points for each treatment regimen using pandas\n",
    "data_points = comb_df.groupby('Drug Regimen')\n",
    "count_data_points = data_points['Drug Regimen'].count()\n",
    "\n",
    "count_chart = count_data_points.plot(kind='bar')\n",
    "count_chart.set_title(\"Data for Treatment Regimen\")\n",
    "count_chart.set_xlabel(\"Drug Regimen\")\n",
    "count_chart.set_ylabel(\"Number of Data Points\")"
   ]
  },
  {
   "cell_type": "code",
   "execution_count": 20,
   "metadata": {},
   "outputs": [
    {
     "data": {
      "image/png": "[encoded data removed]",
      "text/plain": [
       "<Figure size 576x360 with 1 Axes>"
      ]
     },
     "metadata": {
      "needs_background": "light"
     },
     "output_type": "display_data"
    },
    {
     "data": {
      "text/plain": [
       "<Figure size 432x288 with 0 Axes>"
      ]
     },
     "metadata": {},
     "output_type": "display_data"
    }
   ],
   "source": [
    "# Generate a bar plot showing number of data points for each treatment regimen using pyplot\n",
    "data_points = comb_df.groupby('Drug Regimen')\n",
    "count_data_points = data_points['Drug Regimen'].count()\n",
    "\n",
    "x_axis = np.arange(len(count_data_points))\n",
    "tick_locations = [value+0.5 for value in x_axis]\n",
    "plt.figure(figsize=(8,5))\n",
    "plt.bar(x_axis, count_data_points, color='b', alpha=0.5, align=\"edge\")\n",
    "plt.xticks(tick_locations, [\"Capomulin\", \"Caftamin\", \"Infubinol\", \"Ketapril\", \"Naftisol\", \"Placebo\", \"Propriva\", \"Ramicane\", \"Stelasyn\", \"Zoniferol\"], rotation=\"vertical\")\n",
    "plt.title(\"Data for Treatment Regimen\")\n",
    "plt.xlabel(\"Drug Regimen\")\n",
    "plt.ylabel(\"Number of Data Points\")\n",
    "\n",
    "plt.show()\n",
    "plt.tight_layout()\n"
   ]
  },
  {
   "cell_type": "code",
   "execution_count": null,
   "metadata": {},
   "outputs": [],
   "source": []
  },
  {
   "cell_type": "markdown",
   "metadata": {},
   "source": [
    "## Pie plots"
   ]
  },
  {
   "cell_type": "code",
   "execution_count": 21,
   "metadata": {},
   "outputs": [
    {
     "name": "stdout",
     "output_type": "stream",
     "text": [
      "Sex\n",
      "Female    935\n",
      "Male      958\n",
      "Name: Sex, dtype: int64\n"
     ]
    },
    {
     "data": {
      "image/png": "[encoded data removed]",
      "text/plain": [
       "<Figure size 432x288 with 1 Axes>"
      ]
     },
     "metadata": {},
     "output_type": "display_data"
    }
   ],
   "source": [
    "# Generate a pie plot showing the distribution of female versus male mice using pandas\n",
    "gender = comb_df.groupby('Sex')\n",
    "count_gender = gender['Sex'].count()\n",
    "print(count_gender)\n",
    "gender_pie = count_gender.plot(kind='pie', autopct=\"%1.1f%%\",startangle=80, title=\"Male vs Female\")\n"
   ]
  },
  {
   "cell_type": "code",
   "execution_count": 22,
   "metadata": {},
   "outputs": [
    {
     "data": {
      "image/png": "[encoded data removed]",
      "text/plain": [
       "<Figure size 432x288 with 1 Axes>"
      ]
     },
     "metadata": {},
     "output_type": "display_data"
    }
   ],
   "source": [
    "# Generate a pie plot showing the distribution of female versus male mice using pyplot\n",
    "gender = comb_df.groupby('Sex')\n",
    "Sex = comb_df['Sex'].unique()\n",
    "count_gender = gender['Sex'].count()\n",
    "\n",
    "\n",
    "plt.pie(count_gender, labels=Sex, autopct=\"%1.1f%%\",shadow=True,startangle=80) \n",
    "plt.title(\"Male vs Female\")\n",
    "plt.axis(\"equal\")\n",
    "plt.show()"
   ]
  },
  {
   "cell_type": "markdown",
   "metadata": {},
   "source": [
    "## Quartiles, outliers and boxplots"
   ]
  },
  {
   "cell_type": "code",
   "execution_count": 38,
   "metadata": {},
   "outputs": [
    {
     "name": "stdout",
     "output_type": "stream",
     "text": [
      "The lower quartile of Infubinol is: 54.04860769\n",
      "The upper quartile of Infubinol is: 65.52574285\n",
      "The interquartile range of Infubinol is: 11.477135160000003\n",
      "Values below 36.83290494999999 could be outliers.\n",
      "Values above 82.74144559000001 could be outliers.\n",
      "There are 1 outliers.\n",
      "________________________________________\n",
      "The lower quartile of Ceftamin is: 48.72207785\n",
      "The upper quartile of Ceftamin is: 64.29983003\n",
      "The interquartile range of Ceftamin is: 15.577752179999997\n",
      "Values below 25.355449580000002 could be outliers.\n",
      "Values above 87.66645829999999 could be outliers.\n",
      "There are 0 outliers.\n",
      "________________________________________\n",
      "The lower quartile of the Placebo is: 52.94290169\n",
      "The upper quartile of the Placebo is: 68.13428817\n",
      "The interquartile range of the Placebo is: 15.191386480000006\n",
      "Values below 30.15582196999999 could be outliers.\n",
      "Values above 90.92136789000001 could be outliers.\n",
      "There are 0 outliers.\n",
      "________________________________________\n",
      "The lower quartile of Stelasyn is: 52.476595617499996\n",
      "The upper quartile of Stelasyn is: 69.1039444025\n",
      "The interquartile range of Stelasyn is: 16.62734878500001\n",
      "Values below 27.53557243999998 could be outliers.\n",
      "Values above 94.04496758000002 could be outliers.\n",
      "There are 0 outliers.\n",
      "________________________________________\n"
     ]
    },
    {
     "data": {
      "text/html": [
       "<div>\n",
       "<style scoped>\n",
       "    .dataframe tbody tr th:only-of-type {\n",
       "        vertical-align: middle;\n",
       "    }\n",
       "\n",
       "    .dataframe tbody tr th {\n",
       "        vertical-align: top;\n",
       "    }\n",
       "\n",
       "    .dataframe thead th {\n",
       "        text-align: right;\n",
       "    }\n",
       "</style>\n",
       "<table border=\"1\" class=\"dataframe\">\n",
       "  <thead>\n",
       "    <tr style=\"text-align: right;\">\n",
       "      <th></th>\n",
       "      <th>Mouse ID</th>\n",
       "      <th>Drug Regimen</th>\n",
       "      <th>Sex</th>\n",
       "      <th>Age_months</th>\n",
       "      <th>Weight (g)</th>\n",
       "      <th>Timepoint</th>\n",
       "      <th>TumorVolume</th>\n",
       "      <th>Metastatic Sites</th>\n",
       "    </tr>\n",
       "  </thead>\n",
       "  <tbody>\n",
       "    <tr>\n",
       "      <td>0</td>\n",
       "      <td>a203</td>\n",
       "      <td>Infubinol</td>\n",
       "      <td>Female</td>\n",
       "      <td>20</td>\n",
       "      <td>23</td>\n",
       "      <td>45</td>\n",
       "      <td>67.973419</td>\n",
       "      <td>2</td>\n",
       "    </tr>\n",
       "    <tr>\n",
       "      <td>1</td>\n",
       "      <td>a251</td>\n",
       "      <td>Infubinol</td>\n",
       "      <td>Female</td>\n",
       "      <td>21</td>\n",
       "      <td>25</td>\n",
       "      <td>45</td>\n",
       "      <td>65.525743</td>\n",
       "      <td>1</td>\n",
       "    </tr>\n",
       "    <tr>\n",
       "      <td>2</td>\n",
       "      <td>a262</td>\n",
       "      <td>Placebo</td>\n",
       "      <td>Female</td>\n",
       "      <td>17</td>\n",
       "      <td>29</td>\n",
       "      <td>45</td>\n",
       "      <td>70.717621</td>\n",
       "      <td>4</td>\n",
       "    </tr>\n",
       "    <tr>\n",
       "      <td>3</td>\n",
       "      <td>a275</td>\n",
       "      <td>Ceftamin</td>\n",
       "      <td>Female</td>\n",
       "      <td>20</td>\n",
       "      <td>28</td>\n",
       "      <td>45</td>\n",
       "      <td>62.999356</td>\n",
       "      <td>3</td>\n",
       "    </tr>\n",
       "    <tr>\n",
       "      <td>4</td>\n",
       "      <td>a366</td>\n",
       "      <td>Stelasyn</td>\n",
       "      <td>Female</td>\n",
       "      <td>16</td>\n",
       "      <td>29</td>\n",
       "      <td>30</td>\n",
       "      <td>63.440686</td>\n",
       "      <td>1</td>\n",
       "    </tr>\n",
       "  </tbody>\n",
       "</table>\n",
       "</div>"
      ],
      "text/plain": [
       "  Mouse ID Drug Regimen     Sex  Age_months  Weight (g)  Timepoint  \\\n",
       "0     a203    Infubinol  Female          20          23         45   \n",
       "1     a251    Infubinol  Female          21          25         45   \n",
       "2     a262      Placebo  Female          17          29         45   \n",
       "3     a275     Ceftamin  Female          20          28         45   \n",
       "4     a366     Stelasyn  Female          16          29         30   \n",
       "\n",
       "   TumorVolume  Metastatic Sites  \n",
       "0    67.973419                 2  \n",
       "1    65.525743                 1  \n",
       "2    70.717621                 4  \n",
       "3    62.999356                 3  \n",
       "4    63.440686                 1  "
      ]
     },
     "execution_count": 38,
     "metadata": {},
     "output_type": "execute_result"
    }
   ],
   "source": [
    "# Calculate the final tumor volume of each mouse across four of the most promising treatment regimens. Calculate the IQR and quantitatively determine if there are any potential outliers. \n",
    "FinalTumor_Volume = comb_df.groupby([\"Mouse ID\"]).max()\n",
    "FinalTumor_Volume = FinalTumor_Volume.reset_index()\n",
    "DataTime = FinalTumor_Volume[[\"Mouse ID\", \"Timepoint\"]]\n",
    "TumorData = pd.merge(DataTime, comb_df, on=['Mouse ID','Timepoint'], how='left')\n",
    "\n",
    "\n",
    "Infubinol_df=  pd.DataFrame({\"Tumor Volume\":TumorData.loc[TumorData[\"Drug Regimen\"] == \"Infubinol\"]['TumorVolume']})\n",
    "Ceftamin_df =  pd.DataFrame({\"Tumor Volume\":TumorData.loc[TumorData[\"Drug Regimen\"] == \"Ceftamin\"]['TumorVolume']})\n",
    "Placebo_df =  pd.DataFrame({\"Tumor Volume\":TumorData.loc[TumorData[\"Drug Regimen\"] == \"Placebo\"]['TumorVolume']})\n",
    "Stelasyn_df =  pd.DataFrame({\"Tumor Volume\":TumorData.loc[TumorData[\"Drug Regimen\"] == \"Stelasyn\"]['TumorVolume']})\n",
    "\n",
    "\n",
    "Infubinol_quartiles = Infubinol_df[('Tumor Volume')].quantile([.25,.5,.75])\n",
    "Infubinol_lowerq = Infubinol_quartiles[0.25]\n",
    "Infubinol_upperq = Infubinol_quartiles[0.75]\n",
    "Infubinol_iqr = Infubinol_upperq-Infubinol_lowerq\n",
    "\n",
    "Infubinol_lower_bound = Infubinol_lowerq - (1.5*Infubinol_iqr)\n",
    "Infubinol_upper_bound = Infubinol_upperq + (1.5*Infubinol_iqr)\n",
    "\n",
    "Infubinol_outlier = Infubinol_df.loc[(Infubinol_df['Tumor Volume'] < Infubinol_lower_bound) | (Infubinol_df['Tumor Volume'] > Infubinol_upper_bound)]\n",
    "Infubinol_outlier = Infubinol_outlier['Tumor Volume'].count()\n",
    "\n",
    "print(f\"The lower quartile of Infubinol is: {Infubinol_lowerq}\")\n",
    "print(f\"The upper quartile of Infubinol is: {Infubinol_upperq}\")\n",
    "print(f\"The interquartile range of Infubinol is: {Infubinol_iqr}\")\n",
    "\n",
    "print(f\"Values below {Infubinol_lower_bound} could be outliers.\")\n",
    "print(f\"Values above {Infubinol_upper_bound} could be outliers.\")\n",
    "\n",
    "print(f\"There are {Infubinol_outlier} outliers.\")\n",
    "print('________________________________________')\n",
    "\n",
    "Ceftamin_quartiles = Ceftamin_df[('Tumor Volume')].quantile([.25,.5,.75])\n",
    "Ceftamin_lowerq = Ceftamin_quartiles[0.25]\n",
    "Ceftamin_upperq = Ceftamin_quartiles[0.75]\n",
    "Ceftamin_iqr = Ceftamin_upperq-Ceftamin_lowerq\n",
    "\n",
    "Ceftamin_lower_bound = Ceftamin_lowerq - (1.5*Ceftamin_iqr)\n",
    "Ceftamin_upper_bound = Ceftamin_upperq + (1.5*Ceftamin_iqr)\n",
    "\n",
    "Ceftamin_outlier = Ceftamin_df.loc[(Ceftamin_df['Tumor Volume'] < Ceftamin_lower_bound) | (Ceftamin_df['Tumor Volume'] > Ceftamin_upper_bound)]\n",
    "Ceftamin_outlier = Ceftamin_outlier['Tumor Volume'].count()\n",
    "\n",
    "print(f\"The lower quartile of Ceftamin is: {Ceftamin_lowerq}\")\n",
    "print(f\"The upper quartile of Ceftamin is: {Ceftamin_upperq}\")\n",
    "print(f\"The interquartile range of Ceftamin is: {Ceftamin_iqr}\")\n",
    "\n",
    "print(f\"Values below {Ceftamin_lower_bound} could be outliers.\")\n",
    "print(f\"Values above {Ceftamin_upper_bound} could be outliers.\")\n",
    "print(f\"There are {Ceftamin_outlier} outliers.\")\n",
    "print('________________________________________')\n",
    "\n",
    "Placebo_quartiles = Placebo_df[('Tumor Volume')].quantile([.25,.5,.75])\n",
    "Placebo_lowerq = Placebo_quartiles[0.25]\n",
    "Placebo_upperq = Placebo_quartiles[0.75]\n",
    "Placebo_iqr = Placebo_upperq-Placebo_lowerq\n",
    "\n",
    "Placebo_lower_bound = Placebo_lowerq - (1.5*Placebo_iqr)\n",
    "Placebo_upper_bound = Placebo_upperq + (1.5*Placebo_iqr)\n",
    "\n",
    "\n",
    "Placebo_outlier = Placebo_df.loc[(Placebo_df['Tumor Volume'] < Placebo_lower_bound) | (Placebo_df['Tumor Volume'] > Placebo_upper_bound)]\n",
    "Placebo_outlier = Placebo_outlier['Tumor Volume'].count()\n",
    "\n",
    "print(f\"The lower quartile of the Placebo is: {Placebo_lowerq}\")\n",
    "print(f\"The upper quartile of the Placebo is: {Placebo_upperq}\")\n",
    "print(f\"The interquartile range of the Placebo is: {Placebo_iqr}\")\n",
    "\n",
    "print(f\"Values below {Placebo_lower_bound} could be outliers.\")\n",
    "print(f\"Values above {Placebo_upper_bound} could be outliers.\")\n",
    "\n",
    "print(f\"There are {Placebo_outlier} outliers.\")\n",
    "print('________________________________________')\n",
    "\n",
    "Stelasyn_quartiles = Stelasyn_df[('Tumor Volume')].quantile([.25,.5,.75])\n",
    "Stelasyn_lowerq = Stelasyn_quartiles[0.25]\n",
    "Stelasyn_upperq = Stelasyn_quartiles[0.75]\n",
    "Stelasyn_iqr = Stelasyn_upperq-Stelasyn_lowerq\n",
    "\n",
    "Stelasyn_lower_bound = Stelasyn_lowerq - (1.5*Stelasyn_iqr)\n",
    "Stelasyn_upper_bound = Stelasyn_upperq + (1.5*Stelasyn_iqr)\n",
    "\n",
    "Stelasyn_outlier = Stelasyn_df.loc[(Stelasyn_df['Tumor Volume'] < Stelasyn_lower_bound) | (Stelasyn_df['Tumor Volume'] > Stelasyn_upper_bound)]\n",
    "Stelasyn_outlier = Stelasyn_outlier['Tumor Volume'].count()\n",
    "\n",
    "print(f\"The lower quartile of Stelasyn is: {Stelasyn_lowerq}\")\n",
    "print(f\"The upper quartile of Stelasyn is: {Stelasyn_upperq}\")\n",
    "print(f\"The interquartile range of Stelasyn is: {Stelasyn_iqr}\")\n",
    "\n",
    "print(f\"Values below {Stelasyn_lower_bound} could be outliers.\")\n",
    "print(f\"Values above {Stelasyn_upper_bound} could be outliers.\")\n",
    "print(f\"There are {Stelasyn_outlier} outliers.\")\n",
    "print('________________________________________')\n",
    "\n",
    "FinalTumor_Volume.head(5)"
   ]
  },
  {
   "cell_type": "code",
   "execution_count": 39,
   "metadata": {
    "scrolled": true
   },
   "outputs": [
    {
     "data": {
      "image/png": "[encoded data removed]",
      "text/plain": [
       "<Figure size 432x288 with 1 Axes>"
      ]
     },
     "metadata": {
      "needs_background": "light"
     },
     "output_type": "display_data"
    }
   ],
   "source": [
    "# Generate a box plot of the final tumor volume of each mouse across four regimens of interest\n",
    "FinalTumor_Volume = comb_df.groupby([\"Mouse ID\"]).max()\n",
    "FinalTumor_Volume = FinalTumor_Volume.reset_index()\n",
    "DataTime = FinalTumor_Volume[[\"Mouse ID\", \"Timepoint\"]]\n",
    "TumorData = pd.merge(DataTime, comb_df, on=['Mouse ID','Timepoint'], how='left')\n",
    "\n",
    "capomulin =  TumorData.loc[TumorData[\"Drug Regimen\"] == \"Capomulin\"]['TumorVolume']\n",
    "ramicane =  TumorData.loc[TumorData[\"Drug Regimen\"] == \"Ramicane\"]['TumorVolume']\n",
    "infubinol =  TumorData.loc[TumorData[\"Drug Regimen\"] == \"Infubinol\"]['TumorVolume']\n",
    "ceftamin =  TumorData.loc[TumorData[\"Drug Regimen\"] == \"Ceftamin\"]['TumorVolume']\n",
    "\n",
    "Drug_Summary = [capomulin, ramicane, infubinol, ceftamin]\n",
    "fig1, ax1 = plt.subplots()\n",
    "ax1.set_title('Final Tumor Volume by Regimen')\n",
    "ax1.set_ylabel('Tumor Volume')\n",
    "ax1.set_xlabel('Drug Regimen')\n",
    "ax1.set_xticklabels(['Capomulin','Ramicane','Infubinol','Ceftamin'])\n",
    "green_diamond = dict(markerfacecolor='g', marker='D')\n",
    "ax1.boxplot(Drug_Summary,flierprops=green_diamond)\n",
    "\n",
    "plt.show()\n"
   ]
  },
  {
   "cell_type": "markdown",
   "metadata": {},
   "source": [
    "## Line and scatter plots"
   ]
  },
  {
   "cell_type": "code",
   "execution_count": 25,
   "metadata": {},
   "outputs": [
    {
     "data": {
      "text/plain": [
       "[Text(0, 0.5, 'Tumor Volume mm3')]"
      ]
     },
     "execution_count": 25,
     "metadata": {},
     "output_type": "execute_result"
    },
    {
     "data": {
      "image/png": "[encoded data removed]",
      "text/plain": [
       "<Figure size 432x288 with 1 Axes>"
      ]
     },
     "metadata": {
      "needs_background": "light"
     },
     "output_type": "display_data"
    }
   ],
   "source": [
    "# Generate a line plot of time point versus tumor volume for a mouse treated with Capomulin\n",
    "Capomulin_Regimen = comb_df[(comb_df[\"Mouse ID\"] == 'l509')]\n",
    "Capomulin_Regimen = Capomulin_Regimen[['TumorVolume', 'Timepoint']]\n",
    "Capomulin_Regimen = Capomulin_Regimen.set_index(['Timepoint'])\n",
    "ax = Capomulin_Regimen.plot.line(title = \"Mouse l509 Tumor Volume\")\n",
    "ax.set(ylabel = \"Tumor Volume mm3\")\n"
   ]
  },
  {
   "cell_type": "code",
   "execution_count": 26,
   "metadata": {},
   "outputs": [
    {
     "data": {
      "text/plain": [
       "Text(0, 0.5, 'Average Tumor Volume')"
      ]
     },
     "execution_count": 26,
     "metadata": {},
     "output_type": "execute_result"
    },
    {
     "data": {
      "image/png": "[encoded data removed]",
      "text/plain": [
       "<Figure size 432x288 with 1 Axes>"
      ]
     },
     "metadata": {
      "needs_background": "light"
     },
     "output_type": "display_data"
    }
   ],
   "source": [
    "# Generate a scatter plot of mouse weight versus average tumor volume for the Capomulin regimen\n",
    "Weight_Volume_Capomulin = comb_df[(comb_df['Drug Regimen'] == \"Capomulin\")]\n",
    "Weight_Volume_Capomulin = Weight_Volume_Capomulin.groupby(['Mouse ID']).mean()\n",
    "ax = Weight_Volume_Capomulin.plot.scatter(title = \"Weight vs Tumor Volume with Capomulin\", x='Weight (g)', y='TumorVolume')\n",
    "ax.set_ylabel(\"Average Tumor Volume\")\n"
   ]
  },
  {
   "cell_type": "code",
   "execution_count": 27,
   "metadata": {},
   "outputs": [
    {
     "name": "stdout",
     "output_type": "stream",
     "text": [
      "The r-squared is: 0.8419363424694718\n"
     ]
    },
    {
     "data": {
      "image/png": "[encoded data removed]",
      "text/plain": [
       "<Figure size 432x288 with 1 Axes>"
      ]
     },
     "metadata": {
      "needs_background": "light"
     },
     "output_type": "display_data"
    }
   ],
   "source": [
    "# Calculate the correlation coefficient and linear regression model for mouse weight and average tumor volume for the Capomulin regimen\n",
    "Weight_Volume_Capomulin = comb_df[(comb_df['Drug Regimen'] == \"Capomulin\")]\n",
    "Weight_Volume_Capomulin = Weight_Volume_Capomulin.groupby(['Mouse ID']).mean()\n",
    "\n",
    "x_values = Weight_Volume_Capomulin['Weight (g)']\n",
    "y_values = Weight_Volume_Capomulin['TumorVolume']\n",
    "(slope, intercept, rvalue, pvalue, stderr) = linregress(x_values, y_values)\n",
    "regress_values = x_values * slope + intercept\n",
    "line_eq = \"y = \" + str(round(slope,2)) + \"x + \" + str(round(intercept,2))\n",
    "plt.scatter(x_values,y_values)\n",
    "plt.plot(x_values,regress_values,\"r-\")\n",
    "plt.annotate(line_eq,(10,10),fontsize=15,color=\"red\")\n",
    "plt.xlabel('Weight (g)')\n",
    "plt.ylabel('Tumor Volume mm3')\n",
    "print(f\"The r-squared is: {rvalue}\")\n",
    "plt.show()\n"
   ]
  },
  {
   "cell_type": "code",
   "execution_count": null,
   "metadata": {},
   "outputs": [],
   "source": []
  }
 ],
 "metadata": {
  "anaconda-cloud": {},
  "kernelspec": {
   "display_name": "Python 3",
   "language": "python",
   "name": "python3"
  },
  "language_info": {
   "codemirror_mode": {
    "name": "ipython",
    "version": 3
   },
   "file_extension": ".py",
   "mimetype": "text/x-python",
   "name": "python",
   "nbconvert_exporter": "python",
   "pygments_lexer": "ipython3",
   "version": "3.7.4"
  }
 },
 "nbformat": 4,
 "nbformat_minor": 2
}
